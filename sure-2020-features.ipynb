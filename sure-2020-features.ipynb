{
 "cells": [
  {
   "cell_type": "code",
   "execution_count": 1,
   "metadata": {},
   "outputs": [
    {
     "data": {
      "text/html": [
       "<div>\n",
       "<style scoped>\n",
       "    .dataframe tbody tr th:only-of-type {\n",
       "        vertical-align: middle;\n",
       "    }\n",
       "\n",
       "    .dataframe tbody tr th {\n",
       "        vertical-align: top;\n",
       "    }\n",
       "\n",
       "    .dataframe thead th {\n",
       "        text-align: right;\n",
       "    }\n",
       "</style>\n",
       "<table border=\"1\" class=\"dataframe\">\n",
       "  <thead>\n",
       "    <tr style=\"text-align: right;\">\n",
       "      <th></th>\n",
       "      <th>toknum</th>\n",
       "      <th>tweet</th>\n",
       "      <th>clean</th>\n",
       "      <th>stance</th>\n",
       "      <th>intensity</th>\n",
       "      <th>valence_raw</th>\n",
       "      <th>valence_posnegneu</th>\n",
       "      <th>valence_emonot</th>\n",
       "      <th>valence_emointens</th>\n",
       "      <th>include</th>\n",
       "      <th>...</th>\n",
       "      <th>quote_url</th>\n",
       "      <th>video</th>\n",
       "      <th>near</th>\n",
       "      <th>geo</th>\n",
       "      <th>source</th>\n",
       "      <th>user_rt_id</th>\n",
       "      <th>user_rt</th>\n",
       "      <th>retweet_id</th>\n",
       "      <th>reply_to</th>\n",
       "      <th>retweet_date</th>\n",
       "    </tr>\n",
       "  </thead>\n",
       "  <tbody>\n",
       "    <tr>\n",
       "      <th>0</th>\n",
       "      <td>1698</td>\n",
       "      <td>Honore de Balzac: \"First love is a kind of vac...</td>\n",
       "      <td>honore de balzac first love be a kind of vacci...</td>\n",
       "      <td>NaN</td>\n",
       "      <td>NaN</td>\n",
       "      <td>NaN</td>\n",
       "      <td>NaN</td>\n",
       "      <td>NaN</td>\n",
       "      <td>NaN</td>\n",
       "      <td>0</td>\n",
       "      <td>...</td>\n",
       "      <td>NaN</td>\n",
       "      <td>0</td>\n",
       "      <td>NaN</td>\n",
       "      <td>NaN</td>\n",
       "      <td>NaN</td>\n",
       "      <td>NaN</td>\n",
       "      <td>NaN</td>\n",
       "      <td>NaN</td>\n",
       "      <td>[{'user_id': '17097525', 'username': 'quotesda...</td>\n",
       "      <td>NaN</td>\n",
       "    </tr>\n",
       "    <tr>\n",
       "      <th>1</th>\n",
       "      <td>2073</td>\n",
       "      <td>Next phase of Gardasil vaccination begins: The...</td>\n",
       "      <td>next phase of gardasil vaccination begin the m...</td>\n",
       "      <td>0.0</td>\n",
       "      <td>NaN</td>\n",
       "      <td>0.0</td>\n",
       "      <td>0.0</td>\n",
       "      <td>0.0</td>\n",
       "      <td>0.0</td>\n",
       "      <td>0</td>\n",
       "      <td>...</td>\n",
       "      <td>NaN</td>\n",
       "      <td>0</td>\n",
       "      <td>NaN</td>\n",
       "      <td>NaN</td>\n",
       "      <td>NaN</td>\n",
       "      <td>NaN</td>\n",
       "      <td>NaN</td>\n",
       "      <td>NaN</td>\n",
       "      <td>[{'user_id': '19480980', 'username': 'radiocha...</td>\n",
       "      <td>NaN</td>\n",
       "    </tr>\n",
       "    <tr>\n",
       "      <th>2</th>\n",
       "      <td>2080</td>\n",
       "      <td>RT @CDCemergency: Who should be vaccinated aga...</td>\n",
       "      <td>rt who should be vaccinate against anthrax adv...</td>\n",
       "      <td>0.0</td>\n",
       "      <td>NaN</td>\n",
       "      <td>0.0</td>\n",
       "      <td>0.0</td>\n",
       "      <td>0.0</td>\n",
       "      <td>0.0</td>\n",
       "      <td>1</td>\n",
       "      <td>...</td>\n",
       "      <td>NaN</td>\n",
       "      <td>0</td>\n",
       "      <td>NaN</td>\n",
       "      <td>NaN</td>\n",
       "      <td>NaN</td>\n",
       "      <td>NaN</td>\n",
       "      <td>NaN</td>\n",
       "      <td>NaN</td>\n",
       "      <td>[{'user_id': '15860016', 'username': '2healthg...</td>\n",
       "      <td>NaN</td>\n",
       "    </tr>\n",
       "    <tr>\n",
       "      <th>3</th>\n",
       "      <td>3080</td>\n",
       "      <td>My mother just had her regular doctor's appoin...</td>\n",
       "      <td>my mother just have her regular doctor be appo...</td>\n",
       "      <td>1.0</td>\n",
       "      <td>1.0</td>\n",
       "      <td>1.0</td>\n",
       "      <td>1.0</td>\n",
       "      <td>1.0</td>\n",
       "      <td>1.0</td>\n",
       "      <td>1</td>\n",
       "      <td>...</td>\n",
       "      <td>NaN</td>\n",
       "      <td>0</td>\n",
       "      <td>NaN</td>\n",
       "      <td>NaN</td>\n",
       "      <td>NaN</td>\n",
       "      <td>NaN</td>\n",
       "      <td>NaN</td>\n",
       "      <td>NaN</td>\n",
       "      <td>[{'user_id': '15420720', 'username': 'GayleHow...</td>\n",
       "      <td>NaN</td>\n",
       "    </tr>\n",
       "    <tr>\n",
       "      <th>4</th>\n",
       "      <td>3187</td>\n",
       "      <td>@megnut dirty bath water is like a vaccination</td>\n",
       "      <td>dirty bath water be like a vaccination</td>\n",
       "      <td>-1.0</td>\n",
       "      <td>-1.0</td>\n",
       "      <td>NaN</td>\n",
       "      <td>NaN</td>\n",
       "      <td>NaN</td>\n",
       "      <td>NaN</td>\n",
       "      <td>0</td>\n",
       "      <td>...</td>\n",
       "      <td>NaN</td>\n",
       "      <td>0</td>\n",
       "      <td>NaN</td>\n",
       "      <td>NaN</td>\n",
       "      <td>NaN</td>\n",
       "      <td>NaN</td>\n",
       "      <td>NaN</td>\n",
       "      <td>NaN</td>\n",
       "      <td>[{'user_id': '2984', 'username': 'go'}, {'user...</td>\n",
       "      <td>NaN</td>\n",
       "    </tr>\n",
       "  </tbody>\n",
       "</table>\n",
       "<p>5 rows × 40 columns</p>\n",
       "</div>"
      ],
      "text/plain": [
       "   toknum                                              tweet  \\\n",
       "0    1698  Honore de Balzac: \"First love is a kind of vac...   \n",
       "1    2073  Next phase of Gardasil vaccination begins: The...   \n",
       "2    2080  RT @CDCemergency: Who should be vaccinated aga...   \n",
       "3    3080  My mother just had her regular doctor's appoin...   \n",
       "4    3187     @megnut dirty bath water is like a vaccination   \n",
       "\n",
       "                                               clean  stance  intensity  \\\n",
       "0  honore de balzac first love be a kind of vacci...     NaN        NaN   \n",
       "1  next phase of gardasil vaccination begin the m...     0.0        NaN   \n",
       "2  rt who should be vaccinate against anthrax adv...     0.0        NaN   \n",
       "3  my mother just have her regular doctor be appo...     1.0        1.0   \n",
       "4             dirty bath water be like a vaccination    -1.0       -1.0   \n",
       "\n",
       "   valence_raw  valence_posnegneu  valence_emonot  valence_emointens  include  \\\n",
       "0          NaN                NaN             NaN                NaN        0   \n",
       "1          0.0                0.0             0.0                0.0        0   \n",
       "2          0.0                0.0             0.0                0.0        1   \n",
       "3          1.0                1.0             1.0                1.0        1   \n",
       "4          NaN                NaN             NaN                NaN        0   \n",
       "\n",
       "       ...       quote_url  video  near geo source user_rt_id  user_rt  \\\n",
       "0      ...             NaN      0   NaN NaN    NaN        NaN      NaN   \n",
       "1      ...             NaN      0   NaN NaN    NaN        NaN      NaN   \n",
       "2      ...             NaN      0   NaN NaN    NaN        NaN      NaN   \n",
       "3      ...             NaN      0   NaN NaN    NaN        NaN      NaN   \n",
       "4      ...             NaN      0   NaN NaN    NaN        NaN      NaN   \n",
       "\n",
       "  retweet_id                                           reply_to  retweet_date  \n",
       "0        NaN  [{'user_id': '17097525', 'username': 'quotesda...           NaN  \n",
       "1        NaN  [{'user_id': '19480980', 'username': 'radiocha...           NaN  \n",
       "2        NaN  [{'user_id': '15860016', 'username': '2healthg...           NaN  \n",
       "3        NaN  [{'user_id': '15420720', 'username': 'GayleHow...           NaN  \n",
       "4        NaN  [{'user_id': '2984', 'username': 'go'}, {'user...           NaN  \n",
       "\n",
       "[5 rows x 40 columns]"
      ]
     },
     "execution_count": 1,
     "metadata": {},
     "output_type": "execute_result"
    }
   ],
   "source": [
    "import pandas as pd\n",
    "import math\n",
    "import statistics\n",
    "\n",
    "data = pd.read_csv(\"data.rated-only.csv\")\n",
    "\n",
    "data.head()"
   ]
  },
  {
   "cell_type": "code",
   "execution_count": 2,
   "metadata": {},
   "outputs": [],
   "source": [
    "def count_valid_items(list, invalidNum):\n",
    "    count = 0\n",
    "    for item in list:\n",
    "        if not (item == invalidNum):\n",
    "            count = count + 1\n",
    "    \n",
    "    return count"
   ]
  },
  {
   "cell_type": "code",
   "execution_count": 3,
   "metadata": {},
   "outputs": [],
   "source": [
    "stance = data['stance']\n",
    "#print(stance)"
   ]
  },
  {
   "cell_type": "code",
   "execution_count": 4,
   "metadata": {},
   "outputs": [],
   "source": [
    "from matplotlib import pyplot\n",
    "import numpy as np\n",
    "%matplotlib inline\n",
    "\n",
    "\n"
   ]
  },
  {
   "cell_type": "code",
   "execution_count": 5,
   "metadata": {},
   "outputs": [],
   "source": [
    "#let's put some columns in for potential features\n",
    "\n",
    "#this column counts how many characters in each entry\n",
    "data['body_len_char'] = data['clean'].apply(lambda x: len(x) - x.count(\" \"))\n",
    "\n",
    "#checks if links present in original tweet\n",
    "data['contains_link'] = [1 if (\"http\" in phrase) else 0 for phrase in data['tweet'] ]\n",
    "\n",
    "#print(data['contains_link'])\n",
    "#print(data['stance'])\n"
   ]
  },
  {
   "cell_type": "code",
   "execution_count": 6,
   "metadata": {},
   "outputs": [
    {
     "name": "stdout",
     "output_type": "stream",
     "text": [
      "Number of pro tweets containing links: 464\n",
      "Number of ambiguous tweets containing links: 637\n",
      "number of anti tweets containing links: 137\n"
     ]
    }
   ],
   "source": [
    "#here, we can interrogate the data for tweets containing links\n",
    "\n",
    "#here's the number of tweets labeled pro containing links\n",
    "data['link_pro'] = [1 if ((data['stance'][i] == 1.0) and (data['contains_link'][i] == 1.0)) else 0 for i in range(len(data['stance']))]\n",
    "link_pro = sum(data['link_pro'])\n",
    "print(\"Number of pro tweets containing links: {}\".format(link_pro))\n",
    "\n",
    "#here's the number of tweets labeled ambiguous containing links\n",
    "data['link_amb'] = [1 if ((data['stance'][i] == 0.0) and (data['contains_link'][i] == 1.0)) else 0 for i in range(len(data['stance']))]\n",
    "link_amb = sum(data['link_amb'])\n",
    "print(\"Number of ambiguous tweets containing links: {}\".format(link_amb))\n",
    "\n",
    "#here's the number of tweets labeled anti containing links\n",
    "data['link_anti'] = [1 if ((data['stance'][i] == -1.0) and (data['contains_link'][i] == 1.0)) else 0 for i in range(len(data['stance']))]\n",
    "link_anti = sum(data['link_anti'])\n",
    "print(\"number of anti tweets containing links: {}\".format(link_anti))\n"
   ]
  },
  {
   "cell_type": "code",
   "execution_count": 7,
   "metadata": {},
   "outputs": [
    {
     "data": {
      "image/png": "[encoded data removed]",
      "text/plain": [
       "<Figure size 432x288 with 1 Axes>"
      ]
     },
     "metadata": {
      "needs_background": "light"
     },
     "output_type": "display_data"
    }
   ],
   "source": [
    "#plotting each of the above\n",
    "\n",
    "from matplotlib.ticker import FuncFormatter\n",
    "import numpy as np\n",
    "\n",
    "x = np.arange(3)\n",
    "y = [link_pro, link_amb, link_anti]\n",
    "\n",
    "def values(x, pos):\n",
    "    return '%1.1d' % (x)\n",
    "\n",
    "formatter = FuncFormatter(values)\n",
    "fig, ax = pyplot.subplots()\n",
    "ax.yaxis.set_major_formatter(formatter)\n",
    "pyplot.bar(x, y)\n",
    "pyplot.xticks(x, ('Pro', 'Ambiguous', 'Anti'))\n",
    "pyplot.title(\"Number of links contained in tweets labeled pro/ambiguous/anti vax\")\n",
    "\n",
    "pyplot.show()\n"
   ]
  },
  {
   "cell_type": "code",
   "execution_count": 8,
   "metadata": {},
   "outputs": [
    {
     "name": "stdout",
     "output_type": "stream",
     "text": [
      "Average length of pro tweet: 99\n",
      "Average length of ambiguous tweet: 72\n",
      "Average length of anti tweet: 91\n",
      "Average length of all tweets: 85\n"
     ]
    }
   ],
   "source": [
    "#let's interrogate the tweet length feature\n",
    "\n",
    "#here's the length of tweets labeled pro\n",
    "data['c_len_pro'] = [data['body_len_char'][i] if (data['stance'][i] == 1.0) else 0 for i in range(len(data['body_len_char']))]\n",
    "c_len_pro_sum = sum(data['c_len_pro'])\n",
    "num_elems_pro = sum([1 if (value > 0) else 0 for value in data['c_len_pro']])\n",
    "c_len_pro_avg = int(c_len_pro_sum/num_elems_pro)\n",
    "print(\"Average length of pro tweet: {}\".format(c_len_pro_avg))\n",
    "\n",
    "#here's the length of tweets labeled ambiguous\n",
    "data['c_len_amb'] = [data['body_len_char'][i] if (data['stance'][i] == 0.0) else 0 for i in range(len(data['body_len_char']))]\n",
    "c_len_amb_sum = sum(data['c_len_amb'])\n",
    "num_elems_amb = sum([1 if (value > 0) else 0 for value in data['c_len_amb']])\n",
    "c_len_amb_avg = int(c_len_amb_sum/num_elems_amb)\n",
    "print(\"Average length of ambiguous tweet: {}\".format(c_len_amb_avg))\n",
    "\n",
    "#here's the length of tweets labeled anti\n",
    "data['c_len_anti'] = [data['body_len_char'][i] if (data['stance'][i] == -1.0) else 0 for i in range(len(data['body_len_char']))]\n",
    "c_len_anti_sum = sum(data['c_len_anti'])\n",
    "num_elems_anti = sum([1 if (value > 0) else 0 for value in data['c_len_anti']])\n",
    "c_len_anti_avg = int(c_len_anti_sum/num_elems_anti)\n",
    "print(\"Average length of anti tweet: {}\".format(c_len_anti_avg))\n",
    "\n",
    "#here's the avg length of all tweets\n",
    "data['c_len_total'] = [data['body_len_char'][i] for i in range(len(data['body_len_char']))]\n",
    "c_len_total_sum = sum(data['c_len_total'])\n",
    "num_elems_total = sum([1 if (value > 0) else 0 for value in data['c_len_total']])\n",
    "c_len_total_avg = int(c_len_total_sum/num_elems_total)\n",
    "print('Average length of all tweets: {}'.format(c_len_total_avg))"
   ]
  },
  {
   "cell_type": "code",
   "execution_count": null,
   "metadata": {},
   "outputs": [],
   "source": []
  },
  {
   "cell_type": "code",
   "execution_count": 19,
   "metadata": {},
   "outputs": [
    {
     "name": "stdout",
     "output_type": "stream",
     "text": [
      "Can't see any trends\n"
     ]
    },
    {
     "data": {
      "image/png": "[encoded data removed]",
      "text/plain": [
       "<Figure size 432x288 with 1 Axes>"
      ]
     },
     "metadata": {
      "needs_background": "light"
     },
     "output_type": "display_data"
    }
   ],
   "source": [
    "avg_pro = data.loc[data.stance == 1.0, 'c_len_total']\n",
    "avg_amb = data.loc[data.stance == 0.0, 'c_len_total']\n",
    "avg_anti = data.loc[data.stance == -1.0, 'c_len_total']\n",
    "avg_total = data['c_len_total']\n",
    "\n",
    "kwargs = dict(alpha=0.5, bins=100)\n",
    "\n",
    "pyplot.hist(avg_pro, **kwargs, color='g', label='Pro')\n",
    "pyplot.hist(avg_amb, **kwargs, color='b', label='Ambiguous')\n",
    "pyplot.hist(avg_anti, **kwargs, color='r', label='Anti')\n",
    "# pyplot.hist(avg_total, **kwargs, color='orange', label='All')\n",
    "\n",
    "\n",
    "pyplot.gca().set(title='Frequency Histogram of Tweet Length By Stance')\n",
    "pyplot.xlim(50,75)\n",
    "pyplot.legend()\n",
    "\n",
    "print(\"Can't see any trends\")"
   ]
  },
  {
   "cell_type": "code",
   "execution_count": 26,
   "metadata": {},
   "outputs": [
    {
     "data": {
      "image/png": "[encoded data removed]",
      "text/plain": [
       "<Figure size 432x288 with 1 Axes>"
      ]
     },
     "metadata": {
      "needs_background": "light"
     },
     "output_type": "display_data"
    },
    {
     "name": "stdout",
     "output_type": "stream",
     "text": [
      "Average intensity of Pro tweets: 27.307585729130587\n",
      "Average intensity of Anti tweets: 91.71681415929204\n",
      "Average intensity of All tweets: 85.21712744436952\n",
      "Average intensity of All tweets: 72.65993623804464 \n",
      "\n",
      "Standard Deviation = 44.08521054635361\n",
      "Pro tweets are -1.3135820606856277 standard deviations away from the mean\n",
      "Anti tweets are 0.14743463021659817 standard deviations away from the mean \n",
      "\n",
      "This might be a good feature to differentiate pro features\n"
     ]
    }
   ],
   "source": [
    "#let's compare the tweet lengths\n",
    "\n",
    "len_pro = data.loc[data.stance == 1.0, 'c_len_total']\n",
    "len_amb = data.loc[data.stance == 0.0, 'c_len_total']\n",
    "len_anti = data.loc[data.stance == -1.0, 'c_len_total']\n",
    "\n",
    "\n",
    "avg_len_anti = np.nansum(len_anti)/count_valid_items(len_anti, 'nan')\n",
    "avg_len_pro = np.nansum(len_pro)/count_valid_items(abs_int_pro, 'nan')\n",
    "avg_len_ambi = np.nansum(len_amb)/count_valid_items(len_amb, 'nan')\n",
    "avg_len_total = np.nansum(data['c_len_total'])/count_valid_items(data['c_len_total'], 'nan')\n",
    "\n",
    "x = np.arange(4)\n",
    "y1 = [avg_len_anti, avg_len_pro, avg_len_ambi, avg_len_total]\n",
    "\n",
    "def values(x, pos):\n",
    "    return '%1.1f' % (x)\n",
    "\n",
    "formatter = FuncFormatter(values)\n",
    "fig, ax = pyplot.subplots()\n",
    "ax.yaxis.set_major_formatter(formatter)\n",
    "\n",
    "pyplot.bar(x, y1)\n",
    "\n",
    "pyplot.xticks(x, ('Anti', 'Pro', 'Ambiguous', 'All'))\n",
    "pyplot.title(\"Average length of tweets by stance\")\n",
    "\n",
    "pyplot.show()\n",
    "\n",
    "stdev = statistics.pstdev(data['c_len_total'])\n",
    "\n",
    "print(\"Average intensity of Pro tweets: {}\".format(avg_len_pro))\n",
    "print(\"Average intensity of Anti tweets: {}\".format(avg_len_anti))\n",
    "print(\"Average intensity of All tweets: {}\".format(avg_len_total))\n",
    "print(\"Average intensity of All tweets: {} \\n\".format(avg_len_ambi))\n",
    "\n",
    "print(\"Standard Deviation = {}\".format(stdev))\n",
    "print(\"Pro tweets are {} standard deviations away from the mean\".format((avg_len_pro - avg_len_total)/stdev))\n",
    "print(\"Anti tweets are {} standard deviations away from the mean \\n\".format(abs(avg_len_anti - avg_len_total)/stdev))\n",
    "\n",
    "print(\"This might be a good feature to differentiate pro features\")"
   ]
  },
  {
   "cell_type": "code",
   "execution_count": null,
   "metadata": {},
   "outputs": [],
   "source": []
  },
  {
   "cell_type": "code",
   "execution_count": 13,
   "metadata": {},
   "outputs": [],
   "source": [
    "#let's explore the intensity feature\n"
   ]
  },
  {
   "cell_type": "code",
   "execution_count": 14,
   "metadata": {},
   "outputs": [
    {
     "name": "stderr",
     "output_type": "stream",
     "text": [
      "C:\\Users\\ayala\\Anaconda3\\lib\\site-packages\\numpy\\lib\\histograms.py:754: RuntimeWarning: invalid value encountered in greater_equal\n",
      "  keep = (tmp_a >= first_edge)\n",
      "C:\\Users\\ayala\\Anaconda3\\lib\\site-packages\\numpy\\lib\\histograms.py:755: RuntimeWarning: invalid value encountered in less_equal\n",
      "  keep &= (tmp_a <= last_edge)\n"
     ]
    },
    {
     "data": {
      "text/plain": [
       "<matplotlib.legend.Legend at 0x1f3e9ec9b00>"
      ]
     },
     "execution_count": 14,
     "metadata": {},
     "output_type": "execute_result"
    },
    {
     "data": {
      "image/png": "[encoded data removed]",
      "text/plain": [
       "<Figure size 432x288 with 1 Axes>"
      ]
     },
     "metadata": {
      "needs_background": "light"
     },
     "output_type": "display_data"
    }
   ],
   "source": [
    "#plotting intensity\n",
    "\n",
    "inte_pro = data.loc[data['stance'] == 1.0, 'intensity']\n",
    "inte_amb = data.loc[data['stance'] == 0.0, 'intensity']\n",
    "inte_anti = data.loc[data['stance'] == -1.0, 'intensity']\n",
    "\n",
    "inte_total = data['intensity']\n",
    "\n",
    "kwargs = dict(alpha=1, bins=5)\n",
    "\n",
    "pyplot.hist(inte_pro, **kwargs, color='g', label='Pro')\n",
    "# pyplot.hist(inte_amb, **kwargs, color='b', label='Ambiguous')\n",
    "pyplot.hist(inte_anti, **kwargs, color='r', label='Anti')\n",
    "\n",
    "\n",
    "\n",
    "pyplot.gca().set(title='Frequency Histogram of Intensity By Stance', ylabel='Frequency', xlabel='Intensity')\n",
    "pyplot.xlim(-2, 2)\n",
    "pyplot.legend()\n",
    "\n",
    "# print(\"Can't see any trends\")"
   ]
  },
  {
   "cell_type": "code",
   "execution_count": 15,
   "metadata": {},
   "outputs": [
    {
     "data": {
      "image/png": "[encoded data removed]",
      "text/plain": [
       "<Figure size 432x288 with 1 Axes>"
      ]
     },
     "metadata": {
      "needs_background": "light"
     },
     "output_type": "display_data"
    },
    {
     "name": "stdout",
     "output_type": "stream",
     "text": [
      "Average intensity of Pro tweets: 1.3673469387755102\n",
      "Average intensity of Anti tweets: 1.1703296703296704\n",
      "Average intensity of All tweets: 1.2115107913669065\n",
      "Standard Deviation = 0.4083796964863109\n",
      "Pro tweets are 0.3815962173178885 standard deviations away from the mean\n",
      "Anti tweets are 0.10084027534071238 standard deviations away from the mean\n",
      "No significance\n"
     ]
    }
   ],
   "source": [
    "#let's compare the average intensity (the absolute value)\n",
    "\n",
    "\n",
    "abs_int_anti = [abs(data['intensity'][i]) if (data['stance'][i] == 1.0) else 0 for i in range(len(data['intensity']))]\n",
    "abs_int_pro = [abs(data['intensity'][i]) if data['stance'][i] == -1.0 else 0 for i in range(len(data['intensity']))]\n",
    "abs_int_total = [abs(data['intensity'][i])  for i in range(len(data['intensity']))]\n",
    "\n",
    "abs_int_anti = [x for x in abs_int_anti if str(x) != 'nan']\n",
    "abs_int_pro = [x for x in abs_int_pro if str(x) != 'nan']\n",
    "abs_int_total = [x for x in abs_int_total if str(x) != 'nan']\n",
    "\n",
    "\n",
    "# print(abs_int_total)\n",
    "\n",
    "\n",
    "# print(count_valid_items(abs_int_anti, 0.0))\n",
    "# print(count_valid_items(abs_int_pro, 0.0))\n",
    "# print(count_valid_items(abs_int_total, 0.0))\n",
    "\n",
    "avg_int_anti = np.nansum(abs_int_anti)/count_valid_items(abs_int_anti, 0.0)\n",
    "avg_int_pro = np.nansum(abs_int_pro)/count_valid_items(abs_int_pro, 0.0)\n",
    "avg_int_total = np.nansum(abs_int_total)/count_valid_items(abs_int_total, 0.0)\n",
    "\n",
    "x = np.arange(3)\n",
    "y1 = [avg_int_anti, avg_int_pro, avg_int_total]\n",
    "\n",
    "def values(x, pos):\n",
    "    return '%1.1f' % (x)\n",
    "\n",
    "formatter = FuncFormatter(values)\n",
    "fig, ax = pyplot.subplots()\n",
    "ax.yaxis.set_major_formatter(formatter)\n",
    "\n",
    "pyplot.bar(x, y1)\n",
    "\n",
    "pyplot.xticks(x, ('Pro', 'Anti', 'All'))\n",
    "pyplot.title(\"Average intensity of tweets by stance\")\n",
    "\n",
    "pyplot.show()\n",
    "\n",
    "stdev = statistics.pstdev(abs_int_total)\n",
    "\n",
    "print(\"Average intensity of Pro tweets: {}\".format(avg_int_pro))\n",
    "print(\"Average intensity of Anti tweets: {}\".format(avg_int_anti))\n",
    "print(\"Average intensity of All tweets: {}\".format(avg_int_total))\n",
    "\n",
    "print(\"Standard Deviation = {}\".format(stdev))\n",
    "print(\"Pro tweets are {} standard deviations away from the mean\".format((avg_int_pro - avg_int_total)/stdev))\n",
    "print(\"Anti tweets are {} standard deviations away from the mean\".format(abs(avg_int_anti - avg_int_total)/stdev))\n",
    "\n",
    "print(\"No significance\")\n",
    "\n"
   ]
  },
  {
   "cell_type": "code",
   "execution_count": 16,
   "metadata": {},
   "outputs": [
    {
     "data": {
      "image/png": "[encoded data removed]",
      "text/plain": [
       "<Figure size 432x288 with 1 Axes>"
      ]
     },
     "metadata": {
      "needs_background": "light"
     },
     "output_type": "display_data"
    },
    {
     "name": "stdout",
     "output_type": "stream",
     "text": [
      "Average valence of Pro tweets: 1.3673469387755102\n",
      "Average valence of Anti tweets: 1.1703296703296704\n",
      "Average valence of All tweets: 1.2115107913669065\n",
      "Standard Deviation = 0.4083796964863109\n",
      "Pro tweets are 0.3815962173178885 standard deviations away from the mean\n",
      "Anti tweets are 0.10084027534071238 standard deviations away from the mean\n",
      "Not Significant\n"
     ]
    }
   ],
   "source": [
    "#now let's look at intensity\n",
    "\n",
    "abs_val_anti = [abs(data['valence_raw'][i]) if (data['stance'][i] == 1.0) else 0 for i in range(len(data['valence_raw']))]\n",
    "abs_val_pro = [abs(data['valence_raw'][i]) if data['stance'][i] == -1.0 else 0 for i in range(len(data['valence_raw']))]\n",
    "abs_val_total = [abs(data['valence_raw'][i])  for i in range(len(data['intensity']))]\n",
    "\n",
    "\n",
    "#clean the list by removing NaN's\n",
    "abs_val_anti = [x for x in abs_int_anti if str(x) != 'nan']\n",
    "abs_val_pro = [x for x in abs_int_pro if str(x) != 'nan']\n",
    "abs_val_total = [x for x in abs_int_total if str(x) != 'nan']\n",
    "\n",
    "avg_val_anti = sum(abs_int_anti)/count_valid_items(abs_int_anti, 0.0)\n",
    "avg_val_pro = sum(abs_int_pro)/count_valid_items(abs_int_pro, 0.0)\n",
    "avg_val_total = sum(abs_int_total)/count_valid_items(abs_int_total, 0.0)\n",
    "\n",
    "x = np.arange(3)\n",
    "y1 = [avg_val_anti, avg_val_pro, avg_val_total]\n",
    "\n",
    "def values(x, pos):\n",
    "    return '%1.1f' % (x)\n",
    "\n",
    "formatter = FuncFormatter(values)\n",
    "fig, ax = pyplot.subplots()\n",
    "ax.yaxis.set_major_formatter(formatter)\n",
    "\n",
    "pyplot.bar(x, y1)\n",
    "\n",
    "pyplot.xticks(x, ('Pro', 'Anti', 'All'))\n",
    "pyplot.title(\"Average valence of tweets by stance\")\n",
    "\n",
    "pyplot.show()\n",
    "\n",
    "stdev = statistics.pstdev(abs_val_total)\n",
    "\n",
    "print(\"Average valence of Pro tweets: {}\".format(avg_val_pro))\n",
    "print(\"Average valence of Anti tweets: {}\".format(avg_val_anti))\n",
    "print(\"Average valence of All tweets: {}\".format(avg_val_total))\n",
    "\n",
    "print(\"Standard Deviation = {}\".format(stdev))\n",
    "print(\"Pro tweets are {} standard deviations away from the mean\".format((avg_val_pro - avg_val_total)/stdev))\n",
    "print(\"Anti tweets are {} standard deviations away from the mean\".format(abs(avg_val_anti - avg_val_total)/stdev))\n",
    "\n",
    "print(\"Not Significant\")\n"
   ]
  },
  {
   "cell_type": "code",
   "execution_count": 17,
   "metadata": {},
   "outputs": [],
   "source": [
    "#exploring valence"
   ]
  }
 ],
 "metadata": {
  "kernelspec": {
   "display_name": "Python 3",
   "language": "python",
   "name": "python3"
  },
  "language_info": {
   "codemirror_mode": {
    "name": "ipython",
    "version": 3
   },
   "file_extension": ".py",
   "mimetype": "text/x-python",
   "name": "python",
   "nbconvert_exporter": "python",
   "pygments_lexer": "ipython3",
   "version": "3.7.1"
  }
 },
 "nbformat": 4,
 "nbformat_minor": 2
}
